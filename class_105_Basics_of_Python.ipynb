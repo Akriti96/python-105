{
  "nbformat": 4,
  "nbformat_minor": 0,
  "metadata": {
    "colab": {
      "provenance": [],
      "authorship_tag": "ABX9TyMSWORqNw6tqYHlvRC62A8c",
      "include_colab_link": true
    },
    "kernelspec": {
      "name": "python3",
      "display_name": "Python 3"
    },
    "language_info": {
      "name": "python"
    }
  },
  "cells": [
    {
      "cell_type": "markdown",
      "metadata": {
        "id": "view-in-github",
        "colab_type": "text"
      },
      "source": [
        "<a href=\"https://colab.research.google.com/github/Akriti96/python-105/blob/main/class_105_Basics_of_Python.ipynb\" target=\"_parent\"><img src=\"https://colab.research.google.com/assets/colab-badge.svg\" alt=\"Open In Colab\"/></a>"
      ]
    },
    {
      "cell_type": "code",
      "execution_count": 8,
      "metadata": {
        "colab": {
          "base_uri": "https://localhost:8080/",
          "height": 53
        },
        "id": "aBnvptQ8chyC",
        "outputId": "08435092-1dc3-4fcc-eb5e-db005ead45b2"
      },
      "outputs": [
        {
          "output_type": "stream",
          "name": "stdout",
          "text": [
            "This is my first python program True\n"
          ]
        },
        {
          "output_type": "execute_result",
          "data": {
            "text/plain": [
              "'Hii students'"
            ],
            "application/vnd.google.colaboratory.intrinsic+json": {
              "type": "string"
            }
          },
          "metadata": {},
          "execution_count": 8
        }
      ],
      "source": [
        "print(\"This is my first python program\",True)\n",
        "\n",
        "# Hii students\n",
        "'''sss\n",
        "df\n",
        "ddff\n",
        "ReferenceError\n",
        "dfff'''\n"
      ]
    },
    {
      "cell_type": "code",
      "source": [
        "# variables\n",
        "# a= 100\n",
        "# a\n",
        "\n",
        "# Type of data's\n",
        "# numbers\n",
        "number=100\n",
        "type(number)\n"
      ],
      "metadata": {
        "colab": {
          "base_uri": "https://localhost:8080/"
        },
        "id": "sn0g6iM-e6Lj",
        "outputId": "ee9991ac-a844-45a1-d408-25b5cf67e9fb"
      },
      "execution_count": 17,
      "outputs": [
        {
          "output_type": "execute_result",
          "data": {
            "text/plain": [
              "int"
            ]
          },
          "metadata": {},
          "execution_count": 17
        }
      ]
    },
    {
      "cell_type": "code",
      "source": [
        "# celius to fahrenheit\n",
        "\n",
        "# f= (9/5 * c) +32\n",
        "celsius= 32.5\n",
        "f=((9/5)*celsius)+32\n",
        "print(f)"
      ],
      "metadata": {
        "colab": {
          "base_uri": "https://localhost:8080/"
        },
        "id": "E8aJfJDxjSYO",
        "outputId": "cd5b9428-fc11-4c09-9485-d23bd589b8cc"
      },
      "execution_count": 18,
      "outputs": [
        {
          "output_type": "stream",
          "name": "stdout",
          "text": [
            "90.5\n"
          ]
        }
      ]
    },
    {
      "cell_type": "code",
      "source": [
        "# function\n",
        "def convert_to_faren(celsius):\n",
        "  f=((9/5)*celsius)+32\n",
        "  return f\n",
        "\n",
        "c=float(input(\"Enter the Temp in celsius:  \"))\n",
        "convert_to_faren(c)"
      ],
      "metadata": {
        "colab": {
          "base_uri": "https://localhost:8080/"
        },
        "id": "Jv7qOXc-kUnu",
        "outputId": "ad07f5da-9540-44ad-99d6-5bf71b99dcc4"
      },
      "execution_count": 22,
      "outputs": [
        {
          "name": "stdout",
          "output_type": "stream",
          "text": [
            "Enter the Temp in celsius:  23.90\n"
          ]
        },
        {
          "output_type": "execute_result",
          "data": {
            "text/plain": [
              "75.02"
            ]
          },
          "metadata": {},
          "execution_count": 22
        }
      ]
    },
    {
      "cell_type": "code",
      "source": [
        "def add(x,y):\n",
        "  return x+y\n",
        "\n",
        "def sub(x,y):\n",
        "  return x-y\n",
        "\n",
        "def calculate(option):\n",
        "  if (option == \"1\" or option ==\"2\"):\n",
        "    numb1=float(input(\"enter 1st number:  \"))\n",
        "    numb2=float(input(\"enter 1st number:  \"))\n",
        "\n",
        "    if(option ==\"1\"):\n",
        "      print(\"sum\",numb1,\"+\",numb2,\"=\",add(numb1,numb2))\n",
        "    elif(option == \"2\"):\n",
        "      print(\"Difference\",numb1,\"-\",numb2,\"=\",sub(numb1,numb2))\n",
        "\n",
        "print(\"choose the operation from below: \")\n",
        "print(\"1.Add\")\n",
        "print(\"2.Sub\")\n",
        "\n",
        "option= input(\"Enter the option\")\n",
        "calculate(option)\n"
      ],
      "metadata": {
        "colab": {
          "base_uri": "https://localhost:8080/"
        },
        "id": "hOtSYlzOmzly",
        "outputId": "ddda9766-5869-4fee-e0cb-0900d2fcd442"
      },
      "execution_count": 24,
      "outputs": [
        {
          "output_type": "stream",
          "name": "stdout",
          "text": [
            "choose the operation from below: \n",
            "1.Add\n",
            "2.Sub\n",
            "Enter the option1\n",
            "enter 1st number:  20\n",
            "enter 1st number:  30\n",
            "sum 20.0 + 30.0 = 50.0\n"
          ]
        }
      ]
    }
  ]
}